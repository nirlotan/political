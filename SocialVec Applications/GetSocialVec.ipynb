{
 "cells": [
  {
   "cell_type": "markdown",
   "metadata": {},
   "source": [
    "# Get SocialVec embeddings\n",
    "This code fetches the SocialVec embeedings for a given list of Twitter users"
   ]
  },
  {
   "cell_type": "code",
   "execution_count": null,
   "metadata": {},
   "outputs": [],
   "source": [
    "#config related imports\n",
    "import numpy as np\n",
    "import pandas as pd\n",
    "import tomli\n",
    "import tweepy\n",
    "from tweepy import Stream\n",
    "from tweepy import OAuthHandler\n",
    "from gensim.models import Word2Vec\n",
    "from tqdm import tqdm\n",
    "from tqdm import trange\n",
    "import time\n",
    "import ast\n",
    "\n",
    "#for logging\n",
    "import logging\n",
    "from importlib import reload\n",
    "import datetime\n"
   ]
  },
  {
   "cell_type": "markdown",
   "metadata": {},
   "source": [
    "# Configurations"
   ]
  },
  {
   "cell_type": "code",
   "execution_count": null,
   "metadata": {},
   "outputs": [],
   "source": [
    "with open(\"../config.toml\", \"rb\") as f:\n",
    "    config = tomli.load(f)\n",
    "    \n",
    "# Additional Configs:\n",
    "limit_amount_of_users = True\n",
    "users_limitation = 30\n",
    "\n",
    "#Setup logging\n",
    "reload(logging)\n",
    "now = datetime.datetime.now()\n",
    "now = now.strftime(\"%Y%m%d_%H%M%S\")\n",
    "logging.basicConfig(filename=f\"logs/SocialVec Collector_{now}.log\", filemode='w', format='%(asctime)s - %(levelname)s - %(message)s', datefmt='%m/%d/%Y %I:%M:%S %p',level=logging.DEBUG)\n"
   ]
  },
  {
   "cell_type": "markdown",
   "metadata": {},
   "source": [
    "## Load SocialVec and list of popular users"
   ]
  },
  {
   "cell_type": "code",
   "execution_count": null,
   "metadata": {},
   "outputs": [],
   "source": [
    "\n",
    "SocialVec = Word2Vec.load(config[\"SocialVec\"][\"model_path\"])\n",
    "SocialVec_popular_list = SocialVec.wv.index_to_key"
   ]
  },
  {
   "cell_type": "markdown",
   "metadata": {},
   "source": [
    "# Twitter connection\n",
    "For each relevant user, collet the list of popular users they follow."
   ]
  },
  {
   "cell_type": "code",
   "execution_count": null,
   "metadata": {},
   "outputs": [],
   "source": [
    "# Open Twitter API for the cases that users do not exist in SocialVec yet.\n",
    "# authorization of consumer key and consumer secret\n",
    "auth = tweepy.OAuthHandler(config[\"twitter_api\"][\"consumer_key\"],\n",
    "                           config[\"twitter_api\"][\"consumer_secret\"])\n",
    "  \n",
    "# set access to user's access key and access secret \n",
    "auth.set_access_token(config[\"twitter_api\"][\"access_token\"], \n",
    "                      config[\"twitter_api\"][\"access_token_secret\"])\n",
    "  \n",
    "# calling the api \n",
    "api = tweepy.API(auth, wait_on_rate_limit=False)"
   ]
  },
  {
   "cell_type": "markdown",
   "metadata": {},
   "source": []
  },
  {
   "cell_type": "markdown",
   "metadata": {},
   "source": [
    "## Auxiliary Function"
   ]
  },
  {
   "cell_type": "code",
   "execution_count": null,
   "metadata": {},
   "outputs": [],
   "source": [
    "def twitter_sleep():\n",
    "    sleep_time = 600 * 15\n",
    "    for i in trange(sleep_time,\n",
    "                    desc = f\"sleep for {sleep_time/600} minutes\"):\n",
    "        time.sleep(0.1)"
   ]
  },
  {
   "cell_type": "markdown",
   "metadata": {},
   "source": [
    "## Expermintal - collect users from Tweet IDs (not fully working yet)"
   ]
  },
  {
   "cell_type": "code",
   "execution_count": null,
   "metadata": {},
   "outputs": [],
   "source": [
    "tweets_df = pd.read_csv('incivility-sage.csv')\n",
    "\n",
    "for tid in tweets_df.id_str.unique():\n",
    "    try:    \n",
    "        print(api.get_status(tid))\n",
    "    except tweepy.errors.TweepyException as e:\n",
    "        print(e.api_messages)"
   ]
  },
  {
   "cell_type": "markdown",
   "metadata": {},
   "source": [
    "## Get list of users from file\n",
    "We use users limitation to limit the amount of users we collect for explortaions"
   ]
  },
  {
   "cell_type": "code",
   "execution_count": null,
   "metadata": {},
   "outputs": [],
   "source": [
    "users_df = pd.read_csv('../Data/datasets/twitter-incivility/candidate_tweet_responses.csv')\n",
    "\n",
    "#we only need screen name of user_id\n",
    "users_df = users_df[['screen_name']].drop_duplicates()\n",
    "\n",
    "if limit_amount_of_users:\n",
    "    users_df = users_df.head(users_limitation)\n",
    "\n",
    "#Set index for later required access\n",
    "users_df = users_df.set_index('screen_name')"
   ]
  },
  {
   "cell_type": "markdown",
   "metadata": {},
   "source": [
    "# Get SocialVec vectors per user\n",
    "## Get list of friends per user"
   ]
  },
  {
   "cell_type": "code",
   "execution_count": null,
   "metadata": {},
   "outputs": [],
   "source": [
    "for user in users_df.iterrows():\n",
    "    user = user[0]\n",
    "\n",
    "    for attempt in range(10):\n",
    "        try:\n",
    "            print (f\"user#:{user}\")\n",
    "            friends = sorted(api.get_friend_ids(screen_name=user))\n",
    "            users_df.at[user, 'friends_list'] = str(friends)\n",
    "            logging.debug(f\"Completed user:{user}\")\n",
    "            users_df.at[user, 'friends_available'] = \"Yes\"\n",
    "\n",
    "        except tweepy.errors.TweepyException as e:\n",
    "\n",
    "            if 'Rate limit exceeded' in e.api_messages:\n",
    "                print(f\"Rate limit exceeded. Wait and retry {10-attempt} more times...\")\n",
    "                twitter_sleep()\n",
    "                continue #retry\n",
    "            else:\n",
    "                print (f\"error: {e.api_messages}\")\n",
    "                logging.debug(f\"user#:{user} Error{e.response}\")\n",
    "                break # we failed not because of rate limit\n",
    "        # We succeeded\n",
    "        break\n",
    "    #completed all attempts"
   ]
  },
  {
   "cell_type": "code",
   "execution_count": null,
   "metadata": {},
   "outputs": [],
   "source": [
    "users_df.to_csv(\"users_with_friends.csv\")"
   ]
  },
  {
   "cell_type": "code",
   "execution_count": null,
   "metadata": {},
   "outputs": [],
   "source": [
    "def get_popular_list( row ):\n",
    "\n",
    "    followers = ast.literal_eval(row['friends_list'])\n",
    "    #transform users ids from int list to string list\n",
    "    item_str = [str(item) for item in followers]\n",
    "    return str(item_str)"
   ]
  },
  {
   "cell_type": "code",
   "execution_count": null,
   "metadata": {},
   "outputs": [],
   "source": [
    "def friends_to_SocialVec( row ):\n",
    "    followers = ast.literal_eval(row['friends_list'])\n",
    "    #transform users ids from int list to string list\n",
    "    item_str = [str(item) for item in followers]\n",
    "    \n",
    "    #keep only popular users in the list:\n",
    "    popular_list = [i for i in item_str if i in SocialVec_popular_list]\n",
    "    \n",
    "    user_embedding = np.mean(SocialVec.wv[popular_list], axis=0)\n",
    "\n",
    "    return str(user_embedding.tolist())"
   ]
  },
  {
   "cell_type": "code",
   "execution_count": null,
   "metadata": {},
   "outputs": [],
   "source": [
    "df = pd.DataFrame(users_df.iloc[3]).T"
   ]
  },
  {
   "cell_type": "code",
   "execution_count": null,
   "metadata": {},
   "outputs": [],
   "source": [
    "df['temp'] = df.apply(friends_to_SocialVec, axis=1)"
   ]
  }
 ],
 "metadata": {
  "interpreter": {
   "hash": "aee8b7b246df8f9039afb4144a1f6fd8d2ca17a180786b69acc140d282b71a49"
  },
  "kernelspec": {
   "display_name": "Python 3.9.9 64-bit",
   "language": "python",
   "name": "python3"
  },
  "language_info": {
   "codemirror_mode": {
    "name": "ipython",
    "version": 3
   },
   "file_extension": ".py",
   "mimetype": "text/x-python",
   "name": "python",
   "nbconvert_exporter": "python",
   "pygments_lexer": "ipython3",
   "version": "3.9.9"
  },
  "orig_nbformat": 4
 },
 "nbformat": 4,
 "nbformat_minor": 2
}
