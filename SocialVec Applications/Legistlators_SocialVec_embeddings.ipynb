{
 "cells": [
  {
   "cell_type": "code",
   "execution_count": null,
   "metadata": {},
   "outputs": [],
   "source": [
    "#config related imports\n",
    "import tomli\n",
    "\n",
    "#json parsing related imports\n",
    "import json\n",
    "import pandas as pd\n",
    "from tqdm import tqdm\n",
    "from pandas.io.json import json_normalize\n",
    "\n",
    "#tweepy related imports\n",
    "import tweepy\n",
    "from tweepy import Stream\n",
    "from tweepy import OAuthHandler\n",
    "import pandas as pd\n",
    "\n",
    "save_file = False"
   ]
  },
  {
   "cell_type": "code",
   "execution_count": null,
   "metadata": {},
   "outputs": [],
   "source": [
    "with open(\"../config.toml\", \"rb\") as f:\n",
    "    config = tomli.load(f)"
   ]
  },
  {
   "cell_type": "markdown",
   "metadata": {},
   "source": [
    "# Collect Legislrators Data"
   ]
  },
  {
   "cell_type": "markdown",
   "metadata": {},
   "source": [
    "## Open legistrators social media json and convert to dataframe"
   ]
  },
  {
   "cell_type": "code",
   "execution_count": null,
   "metadata": {},
   "outputs": [],
   "source": [
    "with open(config['input']['legislators_json']) as f:\n",
    "  data = json.load(f)\n",
    "\n",
    "df = json_normalize(data)"
   ]
  },
  {
   "cell_type": "markdown",
   "metadata": {},
   "source": [
    "## Use tweepy to get the list of followers for each user\n"
   ]
  },
  {
   "cell_type": "code",
   "execution_count": null,
   "metadata": {},
   "outputs": [],
   "source": [
    "user_count = 0\n",
    "n=100\n",
    "user_list = df['social.twitter_id'].dropna().unique()\n",
    "lists_of_users=[user_list[i:i + n] for i in range(0, len(user_list), n)]"
   ]
  },
  {
   "cell_type": "markdown",
   "metadata": {},
   "source": [
    "## Collect details on each of the users"
   ]
  },
  {
   "cell_type": "code",
   "execution_count": null,
   "metadata": {},
   "outputs": [],
   "source": [
    "d_df = pd.DataFrame(columns = ['twitter_id','screen_name','name','description','location','friends_count','followers_count','statuses_count','created_at'])\n",
    " \n",
    "\n",
    "# authorization of consumer key and consumer secret\n",
    "auth = tweepy.OAuthHandler(config[\"twitter_api\"][\"consumer_key\"],\n",
    "                           config[\"twitter_api\"][\"consumer_secret\"])\n",
    "  \n",
    "# set access to user's access key and access secret \n",
    "auth.set_access_token(config[\"twitter_api\"][\"access_token\"], \n",
    "                      config[\"twitter_api\"][\"access_token_secret\"])\n",
    "  \n",
    "# calling the api \n",
    "api = tweepy.API(auth)\n",
    "\n",
    "for current_user_list in lists_of_users:\n",
    "    # Use this to collect by ID:\n",
    "    \n",
    "    query_list = [int(numeric_string) for numeric_string in current_user_list.tolist()]\n",
    "    users = api.lookup_users(user_id=query_list)\n",
    "\n",
    "    for user in users:\n",
    "        d_df = d_df.append({\n",
    "            'twitter_id':user.id,\n",
    "            'screen_name':user.screen_name, \n",
    "            'name':user.name, \n",
    "            'description':user.description,\n",
    "            'location':user.location,\n",
    "            'friends_count':user.friends_count,'followers_count':user.followers_count, 'statuses_count':user.statuses_count,'created_at':user.created_at}, ignore_index=True)\n"
   ]
  },
  {
   "cell_type": "markdown",
   "metadata": {},
   "source": [
    "# Use SocialVec\n",
    "## Get the latest SocialVec model here:\n",
    "https://github.com/nirlotan/SocialVec/tree/master/models\n",
    "\n",
    "The below code extracts only legistlators that were originally part of SocialVec.\n",
    "\n",
    "There is another method for getting embeddings for users \n",
    "\n",
    "e.g.: SocialVec_v6_sg_all.model"
   ]
  },
  {
   "cell_type": "code",
   "execution_count": null,
   "metadata": {},
   "outputs": [],
   "source": [
    "from gensim.models import Word2Vec\n",
    "SocialVec = Word2Vec.load(config[\"SocialVec\"][\"model_path\"])"
   ]
  },
  {
   "cell_type": "code",
   "execution_count": null,
   "metadata": {},
   "outputs": [],
   "source": [
    "d_df.twitter_id = d_df.twitter_id.apply(lambda x: str(int(x)))"
   ]
  },
  {
   "cell_type": "markdown",
   "metadata": {},
   "source": [
    "### Merge datasets and sort by popularity"
   ]
  },
  {
   "cell_type": "code",
   "execution_count": null,
   "metadata": {},
   "outputs": [],
   "source": [
    "d_df = d_df.merge(df,left_on='twitter_id',right_on='social.twitter_id').sort_values(by='followers_count',ascending=False)"
   ]
  },
  {
   "cell_type": "code",
   "execution_count": null,
   "metadata": {},
   "outputs": [],
   "source": [
    "def get_embedding(str_uid):\n",
    "    try:\n",
    "        SocialVec.wv[str_uid]\n",
    "        return ('available')\n",
    "    except:\n",
    "        return ('missing')\n",
    "\n",
    "get_embedding('2001')"
   ]
  },
  {
   "cell_type": "code",
   "execution_count": null,
   "metadata": {},
   "outputs": [],
   "source": [
    "d_df['SocialVec_availability']= d_df.twitter_id.apply( lambda x: get_embedding(x))\n",
    "d_df = d_df.drop_duplicates()\n",
    "\n",
    "if save_file:\n",
    "    d_df.to_csv('legislators_twitter_with_SocialVec_availability.csv')"
   ]
  }
 ],
 "metadata": {
  "interpreter": {
   "hash": "aee8b7b246df8f9039afb4144a1f6fd8d2ca17a180786b69acc140d282b71a49"
  },
  "kernelspec": {
   "display_name": "Python 3.9.7 64-bit",
   "name": "python3"
  },
  "language_info": {
   "codemirror_mode": {
    "name": "ipython",
    "version": 3
   },
   "file_extension": ".py",
   "mimetype": "text/x-python",
   "name": "python",
   "nbconvert_exporter": "python",
   "pygments_lexer": "ipython3",
   "version": "3.9.9"
  },
  "orig_nbformat": 4
 },
 "nbformat": 4,
 "nbformat_minor": 2
}
