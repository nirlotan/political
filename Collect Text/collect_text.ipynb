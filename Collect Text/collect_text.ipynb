{
 "cells": [
  {
   "cell_type": "code",
   "execution_count": null,
   "metadata": {},
   "outputs": [],
   "source": [
    "import pandas as pd\n",
    "import tweepy\n",
    "from tqdm import tqdm"
   ]
  },
  {
   "cell_type": "code",
   "execution_count": null,
   "metadata": {},
   "outputs": [],
   "source": [
    "df = pd.read_csv(\"../SocialVec Applications/user_tweets.csv\",names=[\"tweet_id\",\"user_id\"])"
   ]
  },
  {
   "cell_type": "code",
   "execution_count": null,
   "metadata": {},
   "outputs": [],
   "source": [
    "max_token = 5\n",
    "# token index\n",
    "global_token_index = 0\n",
    "\n",
    "# Auxilary Sleep for waiting to meet Twitter Developer API limitations\n",
    "def aux_sleep():\n",
    "    sleep_time = 15*600 # sleep for 15 minutes\n",
    "    # show sleep progress\n",
    "    for i in trange(sleep_time,\n",
    "                    desc = f\"sleep for {sleep_time/600} minutes\"):\n",
    "        time.sleep(0.1)\n",
    "\n",
    "\n",
    "# Initial connection to Twitter\n",
    "def connect_to_twitter(token_index = 0):\n",
    "\n",
    "    consumer_key        = tokens_df.iloc[token_index]['consumer_key']\n",
    "    consumer_secret     = tokens_df.iloc[token_index]['consumer_secret']\n",
    "    access_token        = tokens_df.iloc[token_index]['access_token']\n",
    "    access_token_secret = tokens_df.iloc[token_index]['access_token_secret']\n",
    "\n",
    "    auth = tweepy.OAuthHandler(consumer_key, consumer_secret)\n",
    "    auth.set_access_token(access_token, access_token_secret)\n",
    "    api = tweepy.API(auth,proxy=\"http://proxy-chain.intel.com:911\")\n",
    "    \n",
    "    return api\n",
    "\n",
    "#\n",
    "\n",
    "tokens_df = pd.read_csv(\"../indexes.csv\")\n",
    "api = connect_to_twitter(global_token_index)"
   ]
  },
  {
   "cell_type": "code",
   "execution_count": null,
   "metadata": {},
   "outputs": [],
   "source": [
    "\n",
    "errorfile = open(f\"error_tweets.csv\",\"a+\")\n",
    "\n",
    "tweets_df = pd.DataFrame()\n",
    "\n",
    "for user in tqdm(df.user_id.unique()):\n",
    "\n",
    "    for attempt in range(10):\n",
    "        try:\n",
    "            #print (f\"tweet#: {tid}\")\n",
    "            res = api.get_status(user)\n",
    "            tweets = api.user_timeline(user_id = user, count = 200, tweet_mode=\"extended\", include_rts = False)\n",
    "            for instance in tweets:\n",
    "                tweets_df = tweets_df.append({'user_id':user, 'text':instance.full_text, 'time':instance.created_at}, ignore_index=True)\n",
    "\n",
    "\n",
    "        except tweepy.errors.TweepyException as e:\n",
    "            if 'Rate limit exceeded' in e.api_messages:\n",
    "                global_token_index = (global_token_index + 1) % (max_token + 1)\n",
    "                if global_token_index != 0:\n",
    "                    print(f\"Rate limit exceeded. Retrying with token #{global_token_index}\")\n",
    "                    api = connect_to_twitter(global_token_index)\n",
    "                else:\n",
    "                    print(f\"Rate limit exceeded. Wait and retry {10-attempt} more times...\")\n",
    "                    time.sleep(1)\n",
    "                    aux_sleep()\n",
    "                continue #retry\n",
    "            else:\n",
    "                errorfile.write(f\"{user},{e.api_messages}\\n\")\n",
    "                break # we failed not because of rate limit\n",
    "        # We succeeded\n",
    "        break\n",
    "    #completed all attempts"
   ]
  },
  {
   "cell_type": "code",
   "execution_count": null,
   "metadata": {},
   "outputs": [],
   "source": [
    "tweets_df.user_id = tweets_df.user_id.apply( lambda x: str(int(x)))"
   ]
  },
  {
   "cell_type": "code",
   "execution_count": null,
   "metadata": {},
   "outputs": [],
   "source": [
    "tweets_df.to_csv(\"incivitily-sage-tweets.csv\")"
   ]
  }
 ],
 "metadata": {
  "interpreter": {
   "hash": "aee8b7b246df8f9039afb4144a1f6fd8d2ca17a180786b69acc140d282b71a49"
  },
  "kernelspec": {
   "display_name": "Python 3.9.9 64-bit",
   "language": "python",
   "name": "python3"
  },
  "language_info": {
   "codemirror_mode": {
    "name": "ipython",
    "version": 3
   },
   "file_extension": ".py",
   "mimetype": "text/x-python",
   "name": "python",
   "nbconvert_exporter": "python",
   "pygments_lexer": "ipython3",
   "version": "3.9.9"
  },
  "orig_nbformat": 4
 },
 "nbformat": 4,
 "nbformat_minor": 2
}
